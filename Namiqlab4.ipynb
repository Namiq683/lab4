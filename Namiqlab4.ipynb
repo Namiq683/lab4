{
  "metadata": {
    "toc-showcode": true,
    "toc-showmarkdowntxt": true,
    "toc-autonumbering": true,
    "language_info": {
      "codemirror_mode": {
        "name": "python",
        "version": 3
      },
      "file_extension": ".py",
      "mimetype": "text/x-python",
      "name": "python",
      "nbconvert_exporter": "python",
      "pygments_lexer": "ipython3",
      "version": "3.8"
    },
    "kernelspec": {
      "name": "python",
      "display_name": "Python (Pyodide)",
      "language": "python"
    }
  },
  "nbformat_minor": 4,
  "nbformat": 4,
  "cells": [
    {
      "cell_type": "code",
      "source": "#Task1\nqrup = \"220 A2\" #string\ntelebesayi = 28 # intnumeric\noglanlarinsayi = 20 # intnumeric\nqizlarinsayi = 8\nfloatnum = 1.4\ngrouportalama = 88.6 # floatnumeric\ncomplexdata = 1j # complexnumeric\nzerbeciler = [\"Namiq\" ,\"Eli\", \"Resul\"] \nqiztelebeler = [\"Gunay\" , \"Melek\" , \"Efsane\" , \"Leyla\"]\nrangedata = range(10) \nbooleandata = True\n\n#Task2\n\nprint (qrup)\nprint (telebesayi)\nprint (grouportalama)\n\n#Task3 #arithmetic operators\nqizlarinsayi = telebesayi-oglanlarinsayi  #Subtraction\ntelebesayi = oglanlarinsayi + qizlarinsayi #Addition\ntelebesayi = oglanlarinsayi * 1.4  #Multiplication\nfloatnum = telebesayi / oglanlarinsayi #Division\n\n#Task3 #assignment operators\na = 10 \na+=10 #a=20\na-=5  #a=15\na*=2 #a=30\na/=2 #a=15\n\n#Task3 #Comparison operators\na = 2\nb = 6\nc = 2\nd = 4\nprint(a==b) #false\nprint(a!=b) #true\nprint(c>=b) #false\nprint(d<=b) #true\nprint(d<b) #true\n\n#Task3 #Logical operators\nx = 5\nprint(x > 3 and x < 10)  #true\nprint(x > 3 or x > 10)  #true\nprint(not(x > 3 and x < 10))  #false\n      \n#Task4 #If ...else operators   \na = 123\nb = 20\nif b > a:\n      print(\"b is greater than a\");\nif (a-b == 103):\n     print(True);\nelse :\n     print(\"a is greater than b\") \n      \n    \n      ",
      "metadata": {
        "trusted": true
      },
      "execution_count": 10,
      "outputs": [
        {
          "name": "stdout",
          "text": "220 A2\n28\n88.6\nFalse\nTrue\nFalse\nTrue\nTrue\nTrue\nTrue\nFalse\nTrue\n",
          "output_type": "stream"
        }
      ]
    },
    {
      "cell_type": "code",
      "source": "",
      "metadata": {},
      "execution_count": null,
      "outputs": []
    }
  ]
}